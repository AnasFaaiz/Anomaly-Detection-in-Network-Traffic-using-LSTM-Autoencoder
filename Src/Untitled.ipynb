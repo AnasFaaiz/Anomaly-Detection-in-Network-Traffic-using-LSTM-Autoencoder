{
 "cells": [
  {
   "cell_type": "code",
   "execution_count": null,
   "id": "20cb8ae9-8e71-4f26-8b4e-89f7a55bc068",
   "metadata": {},
   "outputs": [],
   "source": []
  },
  {
   "cell_type": "code",
   "execution_count": null,
   "id": "080fbb02-b739-4f58-9839-6fc755b421d2",
   "metadata": {},
   "outputs": [],
   "source": []
  }
 ],
 "metadata": {
  "kernelspec": {
   "display_name": "Python 3 (ipykernel)",
   "language": "python",
   "name": "python3"
  },
  "language_info": {
   "codemirror_mode": {
    "name": "ipython",
    "version": 3
   },
   "file_extension": ".py",
   "mimetype": "text/x-python",
   "name": "python",
   "nbconvert_exporter": "python",
   "pygments_lexer": "ipython3",
   "version": "3.12.3"
  }
 },
 "nbformat": 4,
 "nbformat_minor": 5
}
